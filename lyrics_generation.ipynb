{
 "cells": [
  {
   "cell_type": "code",
   "execution_count": 1,
   "metadata": {},
   "outputs": [],
   "source": [
    "import numpy as np\n",
    "import pandas as pd\n",
    "import matplotlib.pyplot as plt"
   ]
  },
  {
   "cell_type": "code",
   "execution_count": 2,
   "metadata": {},
   "outputs": [],
   "source": [
    "def generateTable(data,k=4):\n",
    "    \n",
    "    T = {}\n",
    "    for i in range(len(data)-k):\n",
    "        X = data[i:i+k]\n",
    "        Y = data[i+k]\n",
    "        #print(\"X  %s and Y %s  \"%(X,Y))\n",
    "        \n",
    "        if T.get(X) is None:\n",
    "            T[X] = {}\n",
    "            T[X][Y] = 1\n",
    "        else:\n",
    "            if T[X].get(Y) is None:\n",
    "                T[X][Y] = 1\n",
    "            else:\n",
    "                T[X][Y] += 1\n",
    "    \n",
    "    return T"
   ]
  },
  {
   "cell_type": "code",
   "execution_count": 3,
   "metadata": {},
   "outputs": [
    {
     "name": "stdout",
     "output_type": "stream",
     "text": [
      "{'hell': {'o': 2, 'i': 1}, 'ello': {' ': 2}, 'llo ': {'h': 2}, 'lo h': {'e': 2}, 'o he': {'l': 2}, ' hel': {'l': 2}}\n"
     ]
    }
   ],
   "source": [
    "T = generateTable(\"hello hello helli\")\n",
    "print(T)"
   ]
  },
  {
   "cell_type": "code",
   "execution_count": 4,
   "metadata": {},
   "outputs": [],
   "source": [
    "def convertFreqIntoProb(T):     \n",
    "    for kx in T.keys():\n",
    "        s = float(sum(T[kx].values()))\n",
    "        for k in T[kx].keys():\n",
    "            T[kx][k] = T[kx][k]/s\n",
    "                \n",
    "    return T"
   ]
  },
  {
   "cell_type": "code",
   "execution_count": 5,
   "metadata": {},
   "outputs": [
    {
     "name": "stdout",
     "output_type": "stream",
     "text": [
      "{'hell': {'o': 0.6666666666666666, 'i': 0.3333333333333333}, 'ello': {' ': 1.0}, 'llo ': {'h': 1.0}, 'lo h': {'e': 1.0}, 'o he': {'l': 1.0}, ' hel': {'l': 1.0}}\n"
     ]
    }
   ],
   "source": [
    "T = convertFreqIntoProb(T)\n",
    "print(T)"
   ]
  },
  {
   "cell_type": "code",
   "execution_count": 6,
   "metadata": {},
   "outputs": [],
   "source": [
    "def load_file(path):\n",
    "    with open(path,encoding='utf-8') as f:\n",
    "        data=f.read().lower()\n",
    "        \n",
    "        return data"
   ]
  },
  {
   "cell_type": "code",
   "execution_count": 8,
   "metadata": {},
   "outputs": [],
   "source": [
    "data=load_file('Apna Time Aayega.txt')"
   ]
  },
  {
   "cell_type": "code",
   "execution_count": 9,
   "metadata": {},
   "outputs": [
    {
     "name": "stdout",
     "output_type": "stream",
     "text": [
      "apna time aayega\n",
      "uth ja apni raakh se\n",
      "tu udd ja ab talaash mein\n",
      "parwaaz dekh parwane ki\n",
      "aasman bhi sar uthayega\n",
      "aayega apna time aayega\n",
      "mere jaisa shaana lala\n",
      "tujhe na mil payega\n",
      " \n",
      "yeh shabdon ka jwala\n",
      "meri bediyan pighlayega\n",
      "jitna toone boya hai tu\n",
      "utna hi to khaayega\n",
      "aisa mera khwaab hai\n",
      "jo darr ko bhi satayega\n",
      "zinda mera khwaab\n",
      "ab kaise tu dafnayega\n",
      " \n",
      "ab hausle se jeene de\n",
      "ab khauf nahi hai seene mein\n",
      "har raaste ko cheerenge\n",
      "hum kaamyabi chheenenge\n",
      "sab kuchh mila paseene se\n",
      "matlab bana ab jeene mein\n",
      " \n",
      "kyon\n",
      "kyon ki apna time aayega\n",
      " \n",
      "tu nanga hi to aaya hai\n",
      "kya ghanta lekar jaayega\n",
      "apna time aayega\n",
      "apna time aayega\n",
      "apna time aayega x (2)\n",
      " \n",
      "tu nanga hi to aaya hai\n",
      "kya ghanta lekar..\n",
      " \n",
      "kissi ka hath nahi tha sar par\n",
      "yahaan par aaya khud ki mehnat se main\n",
      "jitni taakat kismat mein nahi\n",
      "utni rehmat mein hai\n",
      "phir bhi ladka sehmat nahin hai\n",
      "kyon ki hairat nahi hai\n",
      "zaroorat yahaan marzi ki\n",
      "aur jurrat ki hai\n",
      " \n",
      "taakat ki hai, aafat ki\n",
      "himaakat ki, ibaadat ki\n",
      "adalat yeh hai chahat ki\n",
      "mohobbat ki, amaanat ki\n",
      "jeetne ki ab aadat ki hai\n",
      "shohrat ki ab laalach nai hai\n",
      "tere bhai jaisa koyi hard’ch nai hai\n",
      " \n",
      "iss harkat ne hi barkat di hai\n",
      "kyon?\n",
      " \n",
      "tu nanga hi to aaya hai\n",
      "kya ghanta lekar jaayega\n",
      "apna time aayega\n",
      "apna time aayega\n",
      "apna time aayega\n",
      " \n",
      "tu nanga hi to aaya hai\n",
      "kya ghanta lekar jaayega\n",
      "kya tu ghanta lekar jaayega\n",
      "apna time aayega\n",
      "apna time aayega\n"
     ]
    }
   ],
   "source": [
    "print(data)"
   ]
  },
  {
   "cell_type": "code",
   "execution_count": 10,
   "metadata": {},
   "outputs": [],
   "source": [
    "def trainMarkovChain(text,k=4):\n",
    "    \n",
    "    T = generateTable(text,k)\n",
    "    T = convertFreqIntoProb(T)\n",
    "    \n",
    "    return T"
   ]
  },
  {
   "cell_type": "code",
   "execution_count": 12,
   "metadata": {},
   "outputs": [],
   "source": [
    "model = trainMarkovChain(data)\n",
    "#print(model)"
   ]
  },
  {
   "cell_type": "code",
   "execution_count": 14,
   "metadata": {},
   "outputs": [
    {
     "name": "stdout",
     "output_type": "stream",
     "text": [
      "apple\n",
      "banana\n",
      "apple\n",
      "apple\n",
      "apple\n",
      "banana\n",
      "apple\n",
      "mango\n",
      "apple\n",
      "apple\n"
     ]
    }
   ],
   "source": [
    "import numpy as np\n",
    "# sampling !\n",
    "fruits = [\"apple\",\"banana\",\"mango\"]\n",
    "prob = [\"0.8\",\".1\",\"0.1\"]\n",
    "for i in range(10):\n",
    "    #sampling according a probability distribution\n",
    "    print(np.random.choice(fruits,p=prob))"
   ]
  },
  {
   "cell_type": "code",
   "execution_count": 15,
   "metadata": {},
   "outputs": [],
   "source": [
    "def sample_next(ctx,T,k):\n",
    "    ctx = ctx[-k:]\n",
    "    if T.get(ctx) is None:\n",
    "        return \" \"\n",
    "    possible_Chars = list(T[ctx].keys())\n",
    "    possible_values = list(T[ctx].values())\n",
    "    \n",
    "    #print(possible_Chars)\n",
    "    #print(possible_values)\n",
    "    \n",
    "    return np.random.choice(possible_Chars,p=possible_values)"
   ]
  },
  {
   "cell_type": "code",
   "execution_count": 16,
   "metadata": {},
   "outputs": [
    {
     "data": {
      "text/plain": [
       "'b'"
      ]
     },
     "execution_count": 16,
     "metadata": {},
     "output_type": "execute_result"
    }
   ],
   "source": [
    "sample_next(\"Mohob\",model,4)"
   ]
  },
  {
   "cell_type": "code",
   "execution_count": 17,
   "metadata": {},
   "outputs": [],
   "source": [
    "def generateText(starting_sent,k=4,maxLen=2000):\n",
    "    \n",
    "    sentence = starting_sent\n",
    "    ctx = starting_sent[-k:]\n",
    "    \n",
    "    for ix in range(maxLen):\n",
    "        next_prediction = sample_next(ctx,model,k)\n",
    "        sentence += next_prediction\n",
    "        ctx = sentence[-k:]\n",
    "    return sentence"
   ]
  },
  {
   "cell_type": "code",
   "execution_count": 18,
   "metadata": {},
   "outputs": [],
   "source": [
    "np.random.seed(11)"
   ]
  },
  {
   "cell_type": "code",
   "execution_count": 19,
   "metadata": {},
   "outputs": [],
   "source": [
    "text1 = generateText(\"apna\",k=4,maxLen=2000)\n",
    "#print(text1)"
   ]
  },
  {
   "cell_type": "code",
   "execution_count": 20,
   "metadata": {},
   "outputs": [],
   "source": [
    "lyrics=open(\"pred1.txt\",\"w\",encoding='utf-8')"
   ]
  },
  {
   "cell_type": "code",
   "execution_count": null,
   "metadata": {},
   "outputs": [],
   "source": []
  }
 ],
 "metadata": {
  "kernelspec": {
   "display_name": "Python 3",
   "language": "python",
   "name": "python3"
  },
  "language_info": {
   "codemirror_mode": {
    "name": "ipython",
    "version": 3
   },
   "file_extension": ".py",
   "mimetype": "text/x-python",
   "name": "python",
   "nbconvert_exporter": "python",
   "pygments_lexer": "ipython3",
   "version": "3.7.3"
  }
 },
 "nbformat": 4,
 "nbformat_minor": 2
}
